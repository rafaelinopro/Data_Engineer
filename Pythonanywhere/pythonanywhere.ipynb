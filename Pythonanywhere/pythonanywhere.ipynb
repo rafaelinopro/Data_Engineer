{
 "cells": [
  {
   "attachments": {},
   "cell_type": "markdown",
   "metadata": {},
   "source": [
    "![](https://www.pythonanywhere.com/static/anywhere/images/PA-logo-large.png)"
   ]
  },
  {
   "attachments": {},
   "cell_type": "markdown",
   "metadata": {},
   "source": [
    "PythonAnywhere es una plataforma de alojamiento en la nube y un entorno de desarrollo integrado en línea (IDE) para Python. Es un servicio que permite a los desarrolladores de Python ejecutar, guardar y compartir sus scripts de Python directamente en la nube, sin tener que instalar Python en sus propias máquinas o servidores.\n",
    "\n",
    "PythonAnywhere proporciona acceso a una consola de Python en tu navegador, con una gama completa de características de Python ya instaladas y listas para usar, incluyendo tanto Python 2 como Python 3, y una gran cantidad de módulos y bibliotecas preinstaladas.\n",
    "\n",
    "Además de ser un entorno de ejecución de Python, PythonAnywhere también ofrece una gama de servicios para desarrolladores web de Python. Puedes alojar y publicar aplicaciones web Python escritas con marcos como Flask, Django, y muchos más. El servicio proporciona una base de datos MySQL o SQLite, y te permite programar tus propios trabajos para ejecutarse regularmente en el servidor.\n",
    "\n",
    "PythonAnywhere tiene una versión gratuita que incluye un número limitado de horas de CPU, así como planes de pago para aquellos que necesitan más recursos o funciones adicionales.\n",
    "\n",
    "En resumen, PythonAnywhere es una excelente herramienta para los desarrolladores de Python que buscan un entorno de ejecución en la nube, un lugar para alojar sus aplicaciones web, o ambos."
   ]
  },
  {
   "attachments": {},
   "cell_type": "markdown",
   "metadata": {},
   "source": [
    "## Desplegar una API de Flask fácilmente"
   ]
  },
  {
   "attachments": {},
   "cell_type": "markdown",
   "metadata": {},
   "source": [
    "## Paso 1: Crear una cuenta en PythonAnywhere\n",
    "\n",
    "Ir a [PythonAnywhere](https://www.pythonanywhere.com/) y registrarse."
   ]
  },
  {
   "attachments": {},
   "cell_type": "markdown",
   "metadata": {},
   "source": [
    "## Paso 2: Crear una carpeta y subir los archivos\n",
    "\n",
    "En PythonAnywhere ir a la pestaña de Files\n",
    "\n",
    "- Crear una carpeta\n",
    "- Subir los archivos"
   ]
  },
  {
   "attachments": {},
   "cell_type": "markdown",
   "metadata": {},
   "source": [
    "## Paso 3: Establecer un entorno virtual\n",
    "\n",
    "En la pestaña Consola:\n",
    "\n",
    "- Iniciar una consola Bash\n",
    "- Ejecutar el comando:"
   ]
  },
  {
   "attachments": {},
   "cell_type": "markdown",
   "metadata": {},
   "source": [
    ">mkvirtualenv --python=/usr/bin/python3.9 my-virtualenv"
   ]
  },
  {
   "attachments": {},
   "cell_type": "markdown",
   "metadata": {},
   "source": [
    "- Instalar Flask"
   ]
  },
  {
   "attachments": {},
   "cell_type": "markdown",
   "metadata": {},
   "source": [
    "> pip install flask"
   ]
  },
  {
   "attachments": {},
   "cell_type": "markdown",
   "metadata": {},
   "source": [
    "## Paso 4: Montar la APP web\n",
    "\n",
    "- En la pestaña Web:\n",
    "    \n",
    "    - Creamos una nueva web app \"Add a new app\"\n",
    "    - Seleccionamos Flask\n",
    "    - Python 3.9\n",
    "    - No modificamos el nombre\n"
   ]
  },
  {
   "attachments": {},
   "cell_type": "markdown",
   "metadata": {},
   "source": [
    "## Paso 5: Configuración Web\n",
    "\n",
    "En la pestaña Web:\n",
    "\n",
    "- En Virtualenv:\n",
    "\n",
    "    - Se selecciona el entorno virutal que creamos en el paso anterior\n",
    "\n",
    "- En Code:\n",
    "\n",
    "    - En el apartado WSGI al hacer click entramos en un editor\n",
    "\n",
    "        - Se modifica la linea `from flask_app import app as application` donde `flask_app` tiene que ser el nombre del archivo que subimos\n",
    "\n",
    "        - Se tiene que modificar esta linea también `project_home = '/home/jmaniglia/mysite'` donde `mysite` sera la carpeta que creamos al principio\n"
   ]
  },
  {
   "attachments": {},
   "cell_type": "markdown",
   "metadata": {},
   "source": [
    "## Paso 6: Modificaciones del archivo app.py\n",
    "\n",
    "Los archivos que se suben a PythonAnywhere deben tener"
   ]
  },
  {
   "cell_type": "code",
   "execution_count": null,
   "metadata": {},
   "outputs": [],
   "source": [
    "if __name__ == '__main__':\n",
    "    app.run()"
   ]
  },
  {
   "attachments": {},
   "cell_type": "markdown",
   "metadata": {},
   "source": [
    "## Paso 7: Recargar\n",
    "\n",
    "Para que se vean los cambios se debe recargar el sitio en el botón verde"
   ]
  },
  {
   "attachments": {},
   "cell_type": "markdown",
   "metadata": {},
   "source": [
    "----------"
   ]
  },
  {
   "attachments": {},
   "cell_type": "markdown",
   "metadata": {},
   "source": [
    "## Pasos para desplegar una app Flask en Pythonanywhere con GitHub"
   ]
  },
  {
   "attachments": {},
   "cell_type": "markdown",
   "metadata": {},
   "source": [
    "## Paso 1: Crear una cuenta en PythonAnywhere\n",
    "\n",
    "Ir a [PythonAnywhere](https://www.pythonanywhere.com/) y registrarse."
   ]
  },
  {
   "attachments": {},
   "cell_type": "markdown",
   "metadata": {},
   "source": [
    "## Paso 2: Crear una aplicación Flask con Python 3.9\n",
    "\n",
    "En PythonAnywhere, ir a la pestaña Web y seleccionar Add a new web app.\n",
    "\n",
    "Seguir los pasos: \n",
    "- Seleccionar Flask \n",
    "- Python 3.9."
   ]
  },
  {
   "attachments": {},
   "cell_type": "markdown",
   "metadata": {},
   "source": [
    "## Paso 3: Entrar en una consola Bash\n",
    "\n",
    "Volver al tablero principal y abrir una nueva consola Bash desde la sección Consoles."
   ]
  },
  {
   "attachments": {},
   "cell_type": "markdown",
   "metadata": {},
   "source": [
    "## Paso 4: Clonar el repositorio\n",
    "\n",
    "En la consola Bash, usar el comando git para clonar tu repositorio de GitHub. Por ejemplo:"
   ]
  },
  {
   "attachments": {},
   "cell_type": "markdown",
   "metadata": {},
   "source": [
    "> git clone https://github.com/username/repo.git"
   ]
  },
  {
   "attachments": {},
   "cell_type": "markdown",
   "metadata": {},
   "source": [
    "## Paso 5: Modificar el Source code y el WSGI configuration file\n",
    "\n",
    "En la pestaña Web: \n",
    "\n",
    "- Ir a Code y luego a Source code. \n",
    "\n",
    "    - Cambia la ruta al nombre de tu carpeta de GitHub clonada.\n",
    "\n",
    "- En WSGI configuration file \n",
    "\n",
    "    - Cambia las siguientes líneas:"
   ]
  },
  {
   "attachments": {},
   "cell_type": "markdown",
   "metadata": {},
   "source": [
    "> project_home = '/home/jmaniglia/nombre_de_tu_carpeta_github'\n",
    "\n",
    "> application = FlaskApp(\"nombre_de_tu_archivo.py\")"
   ]
  },
  {
   "attachments": {},
   "cell_type": "markdown",
   "metadata": {},
   "source": [
    "## Paso 6: Automatización Pro\n",
    "\n",
    "- Pega la función git_update en tu archivo Flask antes de la página home.\n",
    "\n",
    "- En tu repositorio de GitHub, ve a Settings --> Webhooks --> Add webhook.\n",
    "\n",
    "    - Aquí, agrega la URL de PythonAnywhere + /git_update y cambia el formato a json.\n",
    "<br></br>\n",
    "- Realiza un push en Visual Studio Code.\n",
    "\n",
    "- Finalmente, en la consola de Bash en PythonAnywhere, haz git pull dos veces."
   ]
  },
  {
   "cell_type": "code",
   "execution_count": null,
   "metadata": {},
   "outputs": [],
   "source": [
    "# Route for the GitHub webhook\n",
    "\n",
    "@app.route('/git_update', methods=['POST'])\n",
    "def git_update():\n",
    "    repo = git.Repo('./pythonanywhere')\n",
    "    origin = repo.remotes.origin\n",
    "    repo.create_head('main',\n",
    "                     origin.refs.main).set_tracking_branch(origin.refs.main).checkout()\n",
    "    origin.pull()\n",
    "    return '', 200"
   ]
  },
  {
   "attachments": {},
   "cell_type": "markdown",
   "metadata": {},
   "source": [
    "## Paso 7: Evitar dar al botón verde\n",
    "\n",
    "- En la consola: \n",
    "\n",
    "    - Escribe cd .git/hooks\n",
    "    - Luego escribe ls\n",
    "    - Escribe nano post-merge\n",
    "<br></br>\n",
    "- En el editor que se abre, escribe lo siguiente:"
   ]
  },
  {
   "attachments": {},
   "cell_type": "markdown",
   "metadata": {},
   "source": [
    "> #!/bin/sh\n",
    "\n",
    "> touch ../tmp/restart.txt"
   ]
  },
  {
   "attachments": {},
   "cell_type": "markdown",
   "metadata": {},
   "source": [
    "Presiona Ctrl+X, luego Y para guardar y Enter para salir."
   ]
  },
  {
   "attachments": {},
   "cell_type": "markdown",
   "metadata": {},
   "source": [
    "## Paso 8: Los permisos\n",
    "\n",
    "Por último, proporciona permisos de ejecución a post-merge con el siguiente comando:"
   ]
  },
  {
   "attachments": {},
   "cell_type": "markdown",
   "metadata": {},
   "source": [
    "> chmod +x post-merge"
   ]
  },
  {
   "attachments": {},
   "cell_type": "markdown",
   "metadata": {},
   "source": [
    "Con esto, deberías tener una aplicación Flask en funcionamiento que se actualiza automáticamente cuando realizas un push a tu repositorio de GitHub."
   ]
  }
 ],
 "metadata": {
  "language_info": {
   "name": "python"
  },
  "orig_nbformat": 4
 },
 "nbformat": 4,
 "nbformat_minor": 2
}

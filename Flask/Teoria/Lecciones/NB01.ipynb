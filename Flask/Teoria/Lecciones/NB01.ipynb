{
 "cells": [
  {
   "attachments": {},
   "cell_type": "markdown",
   "metadata": {},
   "source": [
    "# Entorno Virutal"
   ]
  },
  {
   "attachments": {},
   "cell_type": "markdown",
   "metadata": {},
   "source": [
    "El entorno de tu programa es todo lo que debe estar accesible para que se ejecute. Hay numerosas cosas que podemos hacer para configurar y mantener el entorno de nuestra aplicación. Este capítulo se centra en eso. \n",
    "\n",
    "Al instalar paquetes de forma privada sin afectar al intérprete de Python que ya está instalado en tu sistema, puedes hacerlo en un entorno virtual, que es un duplicado del intérprete de Python.\n",
    "\n",
    "Los entornos virtuales son muy útiles porque evitan que el intérprete de Python del sistema se atasque con paquetes y versiones que no coinciden. Puedes asegurarte de que las aplicaciones sólo tienen acceso a los paquetes que necesitan configurando un entorno virtual para cada proyecto. Esto le permite crear más entornos virtuales y mantener limpio el intérprete global. Además, dado que los entornos virtuales pueden ser creados y operados sin privilegios de administrador, son superiores al intérprete Python de todo el sistema."
   ]
  },
  {
   "attachments": {},
   "cell_type": "markdown",
   "metadata": {},
   "source": [
    "## Utilice virtualenv para gestionar su entorno"
   ]
  },
  {
   "attachments": {},
   "cell_type": "markdown",
   "metadata": {},
   "source": [
    "virtualenv es un programa que aísla cualquier aplicación que estés desarrollando en un entorno virtual. Un entorno virtual implica que todo el software del que depende tu programa está almacenado en una única carpeta. Esto significa que el software sólo es utilizable por tu aplicación. \n",
    "El intérprete de Python es un tipo de entorno virtual (una copia). Instalar paquetes en un entorno virtual no tiene ningún impacto en el intérprete de Python utilizado por todo el sistema. Sólo lo tiene la copia. Como resultado, crear una máquina virtual separada sólo para cada aplicación es la mejor manera de asegurar que puedes instalar cualquier versión de tus paquetes. Además, los entornos virtuales no requieren una cuenta de administrador porque son propiedad del usuario que los crea. \n",
    "En lugar de utilizar directorios de paquetes para todo el sistema o para todo el usuario, podemos descargarlos en una carpeta independiente y dedicada a nuestra aplicación. Para cada proyecto, podemos elegir la versión de Python que queremos utilizar y qué dependencias queremos tener disponibles. Es posible cambiar entre varias versiones del mismo paquete con Virtualenv. \n",
    "Este tipo de escalabilidad puede ser crucial cuando se trabaja en un sistema antiguo con múltiples proyectos que requieren diferentes versiones de software. Como resultado de usar virtualenv, estarás limitado a un pequeño número de paquetes Python en tu máquina. Virtualenv será uno de ellos. Pip puede ser utilizado para instalar virtualenv. \n",
    "Los entornos virtuales pueden crearse tan pronto como virtualenv esté instalado en tu ordenador. Ejecute el comando virtualenv en el directorio de su proyecto para empezar. El directorio de destino del entorno virtual es el único parámetro requerido."
   ]
  },
  {
   "attachments": {},
   "cell_type": "markdown",
   "metadata": {},
   "source": [
    ">pip install vitualenv"
   ]
  },
  {
   "attachments": {},
   "cell_type": "markdown",
   "metadata": {},
   "source": [
    "Sí esto te genera algún problema podemos utilizar también la librería venv de python"
   ]
  },
  {
   "attachments": {},
   "cell_type": "markdown",
   "metadata": {},
   "source": [
    "## Install virtualenvwrapper"
   ]
  },
  {
   "attachments": {},
   "cell_type": "markdown",
   "metadata": {},
   "source": [
    "virtualenvwrapper es un paquete que te permite controlar los entornos virtuales que hace virtualenv. Utilice la siguiente línea para instalar el wrapper virtual para nuestros proyectos Flask."
   ]
  },
  {
   "attachments": {},
   "cell_type": "markdown",
   "metadata": {},
   "source": [
    ">pip install virtualenvwrapper-win"
   ]
  },
  {
   "attachments": {},
   "cell_type": "markdown",
   "metadata": {},
   "source": [
    "Linux/Mac"
   ]
  },
  {
   "attachments": {},
   "cell_type": "markdown",
   "metadata": {},
   "source": [
    "> pip install virtualwrapper"
   ]
  },
  {
   "attachments": {},
   "cell_type": "markdown",
   "metadata": {},
   "source": [
    "## Crea el Entorno Virutal"
   ]
  },
  {
   "attachments": {},
   "cell_type": "markdown",
   "metadata": {},
   "source": [
    "La estructura del comando que crea un entorno virtual tiene el siguiente aspecto:"
   ]
  },
  {
   "attachments": {},
   "cell_type": "markdown",
   "metadata": {},
   "source": [
    "python -m venv nombre-del-entorno"
   ]
  },
  {
   "attachments": {},
   "cell_type": "markdown",
   "metadata": {},
   "source": [
    "El -m venv lanza el paquete venv desde el archivo fuente como un script independiente con el nombre dado como argumento. Dentro del directorio microblog, ahora creará un entorno virtual. La mayoría de la gente llama a los entornos virtuales \"venv\", pero puedes llamarlos de otra manera si lo deseas. Asegúrese de que microblog es su directorio y ejecuta este comando:"
   ]
  },
  {
   "attachments": {},
   "cell_type": "markdown",
   "metadata": {},
   "source": [
    "python -m venv nombre-del-entorno"
   ]
  },
  {
   "attachments": {},
   "cell_type": "markdown",
   "metadata": {},
   "source": [
    "Este subdirectorio tendrá un nuevo entorno virtual con un intérprete de Python sólo para este proyecto."
   ]
  },
  {
   "attachments": {},
   "cell_type": "markdown",
   "metadata": {},
   "source": [
    "```\n",
    "env/\n",
    "    Include/\n",
    "    Lib/\n",
    "    Scripts/\n",
    "    pyvenv.cfg\n",
    "```"
   ]
  },
  {
   "attachments": {},
   "cell_type": "markdown",
   "metadata": {},
   "source": [
    "Para activar el entorno virtual se utiliza la siguiente línea:"
   ]
  },
  {
   "attachments": {},
   "cell_type": "markdown",
   "metadata": {},
   "source": [
    ">env\\Scripts\\activate.bat"
   ]
  },
  {
   "attachments": {},
   "cell_type": "markdown",
   "metadata": {},
   "source": [
    "## Instalación de Paquetes Python"
   ]
  },
  {
   "attachments": {},
   "cell_type": "markdown",
   "metadata": {},
   "source": [
    "Todos los entornos virtuales disponen del gestor de paquetes pip, que se utiliza para instalar paquetes Python. De forma similar al comando python, introducir pip en un símbolo del sistema lanzará la versión de este programa que forme parte del entorno virtual activo.\n",
    "\n",
    "Asegúrate de que el entorno virtual está activo antes de ejecutar el siguiente comando para instalar Flask en él:"
   ]
  },
  {
   "attachments": {},
   "cell_type": "markdown",
   "metadata": {},
   "source": [
    "> pip install Flask"
   ]
  },
  {
   "cell_type": "code",
   "execution_count": null,
   "metadata": {
    "vscode": {
     "languageId": "plaintext"
    }
   },
   "outputs": [],
   "source": []
  },
  {
   "attachments": {},
   "cell_type": "markdown",
   "metadata": {},
   "source": [
    "[mi_primera_app](../App/app1.py)"
   ]
  },
  {
   "attachments": {},
   "cell_type": "markdown",
   "metadata": {},
   "source": [
    "<div>\n",
    "    <a href=\"../Flask.py\">\n",
    "        <img src=\"../img/return.png\" alt=\"return\" title=\"return\" width=\"75\" style=\"float: left;\" />\n",
    "    </a>\n",
    "    <a href=\"./NB02.ipynb\">\n",
    "        <img src=\"../img/forward.png\" alt=\"forward\" title=\"forward\" width=\"75\" style=\"float: right;\" />\n",
    "    </a>\n",
    "</div>"
   ]
  }
 ],
 "metadata": {
  "language_info": {
   "name": "python"
  },
  "orig_nbformat": 4
 },
 "nbformat": 4,
 "nbformat_minor": 2
}

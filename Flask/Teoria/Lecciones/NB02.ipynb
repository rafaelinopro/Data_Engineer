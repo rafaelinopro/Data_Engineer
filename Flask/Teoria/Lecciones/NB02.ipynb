{
 "cells": [
  {
   "attachments": {},
   "cell_type": "markdown",
   "metadata": {},
   "source": [
    "# Organización del Proyecto"
   ]
  },
  {
   "attachments": {},
   "cell_type": "markdown",
   "metadata": {},
   "source": [
    "Flask no te ayuda a organizar los archivos de tu aplicación. Todo el código\n",
    "debe estar contenido en una sola carpeta, o podría estar distribuido entre\n",
    "numerosos paquetes. Usted puede agilizar el desarrollo y despliegue de software\n",
    "siguiendo algunos patrones de organización.\n",
    "Utilizaremos diferentes palabras en este capítulo, así que veamos algunas de ellas.\n",
    "- Repositorio - Esta es la carpeta de tu programa en el servidor. Versión\n",
    "sistemas de control de versiones.\n",
    "- Paquete: Esta es una librería Python que contiene el código para tu aplicación.\n",
    "La creación de un paquete para tu proyecto se cubrirá en mayor detalle más adelante en\n",
    "más adelante en este capítulo, así que sepa que es un subdirectorio de su repositorio.\n",
    "- Módulo: Un módulo es un archivo Python que otros archivos Python pueden importar. A\n",
    "paquete no es más que una colección de módulos relacionados.\n"
   ]
  },
  {
   "attachments": {},
   "cell_type": "markdown",
   "metadata": {},
   "source": [
    "## Patrones de organización\n",
    "La mayoría de los ejemplos de Flask tendrán todo el código en un único archivo, normalmente llamado\n",
    "app.py. Esto funciona bien para proyectos pequeños con un número limitado de rutas\n",
    "y menos de unos pocos cientos de líneas de código de aplicación, como los utilizados\n",
    "para tutoriales."
   ]
  },
  {
   "attachments": {},
   "cell_type": "markdown",
   "metadata": {},
   "source": [
    "```\n",
    "app.py\n",
    "config.py\n",
    "requirements.txt\n",
    "static/\n",
    "templates/\n",
    "```"
   ]
  },
  {
   "attachments": {},
   "cell_type": "markdown",
   "metadata": {},
   "source": [
    "Cuando estás trabajando en un proyecto que es un poco más complicado, un solo\n",
    "puede volverse muy complicado. Las clases para modelos y formularios deben ser definidas, y\n",
    "se mezclarán con la secuencia de comandos para sus rutas y configuración. Todo esto\n",
    "esto puede ralentizar el progreso. Para resolver este problema, podemos separar las\n",
    "diferentes partes de nuestra aplicación en un conjunto de módulos que trabajan juntos. Esto se llama\n",
    "paquete."
   ]
  },
  {
   "attachments": {},
   "cell_type": "markdown",
   "metadata": {},
   "source": [
    "```\n",
    "config.py\n",
    "requirements.py\n",
    "run.py\n",
    "instance/\n",
    "    config.py\n",
    "yourapp/\n",
    "    __init__.py\n",
    "    views.py\n",
    "    models.py\n",
    "    forms.py\n",
    "    static/\n",
    "    templates/\n",
    "```"
   ]
  },
  {
   "attachments": {},
   "cell_type": "markdown",
   "metadata": {},
   "source": [
    "La estructura de este listado le permite agrupar las diferentes partes de su aplicación de forma que tenga sentido.\n",
    "una forma que tenga sentido. Las definiciones de clases modelo se agrupan en\n",
    "models. Las definiciones de rutas y formularios están en views.py. y forms.py,\n",
    "respectivamente (tenemos un capítulo entero para formularios más adelante).\n",
    "\n",
    "Esta tabla ofrece un desglose de las partes incluidas en la mayoría de los proyectos Flask\n",
    "de Flask. Es probable que tengas muchos archivos adicionales en tu repositorio, típicos\n",
    "de las aplicaciones Flask."
   ]
  },
  {
   "attachments": {},
   "cell_type": "markdown",
   "metadata": {},
   "source": [
    "| Archivo | Descripción | \n",
    "| --------- | --------- | \n",
    "| run.py    | Este archivo se ejecuta para lanzar un servidor de desarrollo. Obtiene una copia de la aplicación del paquete y la ejecuta. No se utilizará en producción, pero se utiliza mucho durante la fase de desarrollo.  |\n",
    "|  requirements.txt  | Este archivo enumera todos los paquetes de Python de los que depende su aplicación. Usted puede tener archivos diferentes para desarrollo y producción.  |\n",
    "|config.py| Este archivo contiene la mayoría de las variables que su proyecto necesita para configuración. |\n",
    "|/instance/config.py| Este archivo incluye variables de  configuración de configuración que no deben ser por el control de versiones. Esto incluye API y URIs de bases de datos con contraseñas incrustadas. Además, esto contiene variables únicas para esta instancia de su programa. Para ejemplo, puede tener DEBUG = False en config.py pero DEBUG = True en instance/config.py en su sistema de desarrollo local. Porque este archivo será |\n",
    "|/yourapp/|Este es el paquete que contiene su aplicación.|\n",
    "|/yourapp/__init__.py|Este archivo inicializa su aplicación y ensambla sus diversos componentes.|\n",
    "|/yourapp/views.py|Aquí es donde se definen las rutas se realizan. Puede separarse en su paquete (yourapp/views/), con vistas relacionadas organizadas en módulos.|\n",
    "|/yourapp/models.py|Aquí es donde se definen los los modelos de la aplicación. De forma similar a views.py, esto puede separarse en muchos modules.py.|\n",
    "|/yourapp/static/|Este directorio contiene CSS, JavaScript, imágenes y otros archivos que desea hacer públicos a través de su aplicación. Es accesible desde yourapp.com/static/ por defecto.|\n",
    "|/yourapp/templates/|Aquí es donde pondrás las plantillas Jinja2 para tu aplicación.|"
   ]
  },
  {
   "attachments": {},
   "cell_type": "markdown",
   "metadata": {},
   "source": [
    "## Inicialización "
   ]
  },
  {
   "attachments": {},
   "cell_type": "markdown",
   "metadata": {},
   "source": [
    "Todas las aplicaciones Flask necesitan crear una instancia de aplicación. Usando un protocolo\n",
    "WSGI, que se pronuncia \"wiz-ghee\", el servidor web envía todas las peticiones de los clientes a este objeto para que pueda gestionarlas.\n",
    "clientes a este objeto para que pueda gestionarlas. La instancia de aplicación es un\n",
    "objeto de la clase Flask. Los objetos de esta clase suelen crearse de esta forma:"
   ]
  },
  {
   "cell_type": "code",
   "execution_count": 2,
   "metadata": {},
   "outputs": [
    {
     "ename": "",
     "evalue": "",
     "output_type": "error",
     "traceback": [
      "\u001b[1;31mThe Kernel crashed while executing code in the the current cell or a previous cell. Please review the code in the cell(s) to identify a possible cause of the failure. Click <a href='https://aka.ms/vscodeJupyterKernelCrash'>here</a> for more info. View Jupyter <a href='command:jupyter.viewOutput'>log</a> for further details."
     ]
    }
   ],
   "source": [
    "from flask import Flask\n",
    "\n",
    "app = Flask(__name__)"
   ]
  },
  {
   "attachments": {},
   "cell_type": "markdown",
   "metadata": {},
   "source": [
    "Lo único que hay que dar al constructor de la clase Flask es el nombredel módulo o paquete principal de la aplicación. La mayoría de las veces, la variable __name__ de Python es la respuesta correcta para este argumento.\n",
    "\n",
    "Los nuevos desarrolladores de Flask a menudo se confunden al pasar el argumento __name__ al constructor de la aplicación. Al constructor de la aplicación. Flask utiliza este argumento para averiguar dónde la aplicación, lo que le permite encontrar otros archivos que componen la aplicación, como imágenes y plantillas."
   ]
  },
  {
   "attachments": {},
   "cell_type": "markdown",
   "metadata": {},
   "source": [
    "## Blueprints"
   ]
  },
  {
   "attachments": {},
   "cell_type": "markdown",
   "metadata": {},
   "source": [
    "En algún momento, es posible que descubras que existen numerosas rutas. Si eres como yo, tu inclinación inicial será dividir opciones.py en un paquete y organizar las opiniones como módulos. Puede que en esta etapa para incorporar tu aplicación en blueprints. Los blueprints son esencialmente definiciones autocontenidas de los de tu aplicación. Funcionan como aplicaciones dentro de tu aplicación. El panel de administración, el frontend y el panel de usuario pueden tener cada uno su propio blueprint. Esto le permite agrupar vistas, archivos estáticos y plantillas por componente, permitiendo al mismo tiempo que estos  componentes compartan modelos, formularios y otras características de su aplicación.\n",
    "componentes compartan modelos, formularios y otras características de tu aplicación. Pronto, discutiremos cómo organizar tu aplicación usando Blueprints. "
   ]
  },
  {
   "attachments": {},
   "cell_type": "markdown",
   "metadata": {},
   "source": [
    "<div>\n",
    "    <a href=\"../Flask.py\">\n",
    "        <img src=\"../img/return.png\" alt=\"return\" title=\"return\" width=\"75\" style=\"float: left;\" />\n",
    "    </a>\n",
    "    <a href=\"./NB03.ipynb\">\n",
    "        <img src=\"../img/forward.png\" alt=\"forward\" title=\"forward\" width=\"75\" style=\"float: right;\" />\n",
    "    </a>\n",
    "</div>"
   ]
  }
 ],
 "metadata": {
  "kernelspec": {
   "display_name": "venv",
   "language": "python",
   "name": "python3"
  },
  "language_info": {
   "codemirror_mode": {
    "name": "ipython",
    "version": 3
   },
   "file_extension": ".py",
   "mimetype": "text/x-python",
   "name": "python",
   "nbconvert_exporter": "python",
   "pygments_lexer": "ipython3",
   "version": "3.7.4"
  },
  "orig_nbformat": 4
 },
 "nbformat": 4,
 "nbformat_minor": 2
}

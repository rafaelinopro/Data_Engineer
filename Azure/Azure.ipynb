{
 "cells": [
  {
   "attachments": {},
   "cell_type": "markdown",
   "metadata": {},
   "source": [
    "![](https://upload.wikimedia.org/wikipedia/commons/thumb/a/a8/Microsoft_Azure_Logo.svg/2560px-Microsoft_Azure_Logo.svg.png)"
   ]
  },
  {
   "attachments": {},
   "cell_type": "markdown",
   "metadata": {},
   "source": [
    "# Introducción a Azure para Ciencia de Datos\n",
    "\n",
    "Bienvenidos a esta clase, hoy vamos a explorar las capacidades de Microsoft Azure para la Ciencia de Datos."
   ]
  },
  {
   "attachments": {},
   "cell_type": "markdown",
   "metadata": {},
   "source": [
    "## ¿Qué es Azure?\n",
    "\n",
    "Introduce Azure como un conjunto de servicios en la nube proporcionados por Microsoft que se utilizan para construir, implementar y administrar aplicaciones a través de centros de datos de Microsoft.\n",
    "Explica la idea de \"la nube\" y cómo los servicios en la nube, como Azure, ofrecen una alternativa flexible y escalable a la propiedad y gestión de hardware físico."
   ]
  },
  {
   "attachments": {},
   "cell_type": "markdown",
   "metadata": {},
   "source": [
    "## Modelos de servicio en la nube: IaaS, PaaS, SaaS\n",
    "\n",
    "Define y diferencia entre Infraestructura como Servicio (IaaS), Plataforma como Servicio (PaaS) y Software como Servicio (SaaS).\n",
    "Da ejemplos de cada uno en el contexto de Azure. Por ejemplo, las Máquinas Virtuales de Azure para IaaS, Azure App Service para PaaS y Microsoft 365 para SaaS."
   ]
  },
  {
   "attachments": {},
   "cell_type": "markdown",
   "metadata": {},
   "source": [
    "## Recursos y Grupos de Recursos\n",
    "\n",
    "Explica qué es un recurso en Azure (por ejemplo, máquinas virtuales, bases de datos SQL, etc.).\n",
    "Describe cómo los grupos de recursos proporcionan una forma de organizar y administrar recursos relacionados en Azure."
   ]
  },
  {
   "attachments": {},
   "cell_type": "markdown",
   "metadata": {},
   "source": [
    "## Regiones y Zonas de Disponibilidad\n",
    "\n",
    "Describe cómo Azure está dividido en \"regiones\" que representan centros de datos geográficos.\n",
    "Explica el concepto de zonas de disponibilidad para proporcionar resistencia y alta disponibilidad."
   ]
  },
  {
   "attachments": {},
   "cell_type": "markdown",
   "metadata": {},
   "source": [
    "## Servicios básicos de Azure\n",
    "\n",
    "Presenta los servicios principales de Azure, como Azure Compute (por ejemplo, Máquinas Virtuales, Azure Functions), Azure Storage, Azure SQL, etc."
   ]
  },
  {
   "attachments": {},
   "cell_type": "markdown",
   "metadata": {},
   "source": [
    "## Seguridad en Azure\n",
    "\n",
    "Introduce Azure Active Directory y el concepto de gestión de identidades.\n",
    "Habla sobre las mejores prácticas de seguridad en Azure, como el principio de mínimo privilegio y el uso de grupos de seguridad de red."
   ]
  },
  {
   "attachments": {},
   "cell_type": "markdown",
   "metadata": {},
   "source": [
    "## Facturación y administración de costos\n",
    "\n",
    "Explica cómo se cobra Azure y cómo los diferentes servicios pueden contribuir a los costos.\n",
    "Introduce herramientas para la gestión de costos en Azure, como Azure Cost Management y Azure Advisor."
   ]
  },
  {
   "attachments": {},
   "cell_type": "markdown",
   "metadata": {},
   "source": [
    "## Redes en Azure\n",
    "\n",
    "Describe el concepto de redes virtuales en Azure.\n",
    "Explica cómo se pueden utilizar las redes virtuales para controlar el tráfico de red a y desde los recursos de Azure."
   ]
  },
  {
   "attachments": {},
   "cell_type": "markdown",
   "metadata": {},
   "source": [
    "## 1. Crear un Grupo de Recursos en Azure\n",
    "\n",
    "Los Grupos de Recursos en Azure son una forma de organizar y administrar recursos en tu suscripción de Azure.\n",
    "\n",
    "Aquí están los pasos para crear un Grupo de Recursos:\n",
    "\n",
    "Inicia sesión en el portal de Azure.\n",
    "\n",
    "En el menú de la izquierda, haz clic en \"Grupos de recursos\".\n",
    "\n",
    "Haz clic en el botón \"Agregar\".\n",
    "\n",
    "Rellena los detalles necesarios.\n",
    "\n",
    "Suscripción: Selecciona tu suscripción.\n",
    "Nombre del grupo de recursos: Proporciona un nombre para tu grupo.\n",
    "Región: Selecciona la ubicación geográfica en la que se almacenarán tus recursos.\n",
    "Haz clic en \"Revisar + Crear\" y luego en \"Crear\"."
   ]
  },
  {
   "attachments": {},
   "cell_type": "markdown",
   "metadata": {},
   "source": [
    "## 2. Crear una Máquina Virtual (VM) en Azure\n",
    "\n",
    "En el menú de la izquierda del portal de Azure, haz clic en \"Máquinas virtuales\" y luego en \"Agregar\".\n",
    "\n",
    "Rellena los detalles requeridos.\n",
    "\n",
    "Suscripción: Selecciona tu suscripción.\n",
    "Grupo de recursos: Selecciona el grupo de recursos que has creado.\n",
    "Nombre de la VM: Proporciona un nombre para tu VM.\n",
    "Región: Selecciona la ubicación geográfica.\n",
    "Imagen del sistema operativo: Selecciona el sistema operativo de tu elección.\n",
    "Tamaño: Selecciona el tamaño de tu VM (dependiendo de tus necesidades de CPU, RAM, etc.).\n",
    "Proporciona los detalles para la cuenta de administrador.\n",
    "\n",
    "En la pestaña \"Administración\", puedes habilitar o deshabilitar las opciones de supervisión y diagnóstico, y luego hacer clic en \"Revisar + Crear\".\n",
    "\n",
    "Finalmente, haz clic en \"Crear\" para crear la VM."
   ]
  },
  {
   "attachments": {},
   "cell_type": "markdown",
   "metadata": {},
   "source": [
    "## 3. Crear una Base de Datos en Azure\n",
    "\n",
    "Existen varios tipos de bases de datos que puedes crear en Azure, como SQL Database, Cosmos DB, MySQL, y más. A continuación, te proporciono los pasos para crear una base de datos SQL:\n",
    "\n",
    "En el portal de Azure, haz clic en \"Crear un recurso\" en la esquina superior izquierda.\n",
    "\n",
    "En el menú \"Nuevo\", busca \"Base de datos SQL\" y haz clic en el resultado.\n",
    "\n",
    "Rellena los detalles requeridos en la pestaña \"Base de datos SQL\".\n",
    "\n",
    "Suscripción: Selecciona tu suscripción.\n",
    "Grupo de recursos: Selecciona tu grupo de recursos.\n",
    "Nombre de la base de datos: Proporciona un nombre para tu base de datos.\n",
    "Servidor: Selecciona un servidor existente o crea uno nuevo proporcionando los detalles requeridos.\n",
    "Haz clic en \"Revisar + Crear\" y luego en \"Crear\".\n"
   ]
  },
  {
   "attachments": {},
   "cell_type": "markdown",
   "metadata": {},
   "source": [
    "## 4. Crear una Azure Function\n",
    "\n",
    "Las Azure Functions son componentes de ejecución de código sin servidor en Azure. Aquí están los pasos para crear una:\n",
    "\n",
    "En el portal de Azure, haz clic en \"Crear un recurso\".\n",
    "\n",
    "Busca \"Function App\" y selecciona el servicio \"Function App\".\n",
    "\n",
    "Haz clic en \"Crear\" para iniciar el proceso de creación.\n",
    "\n",
    "Rellena los detalles requeridos.\n",
    "\n",
    "Suscripción: Selecciona tu suscripción.\n",
    "Grupo de recursos: Selecciona tu grupo de recursos.\n",
    "Nombre de la aplicación de funciones: Proporciona un nombre único.\n",
    "Publicar: Elige entre \"Código\" o \"Docker Container\".\n",
    "Pila de ejecución: Elige la pila de tecnología (como .NET, Node.js, Python, etc.).\n",
    "Región: Selecciona la ubicación geográfica.\n",
    "Haz clic en \"Revisar + Crear\" y luego en \"Crear\"."
   ]
  },
  {
   "attachments": {},
   "cell_type": "markdown",
   "metadata": {},
   "source": [
    "## 5. Desplegar un Contenedor Docker en Azure\n",
    "\n",
    "Azure Container Instances (ACI) permite ejecutar contenedores Docker en la nube sin tener que aprovisionar servidores ni administrar infraestructuras de orquestación.\n",
    "\n",
    "En el portal de Azure, haz clic en \"Crear un recurso\".\n",
    "\n",
    "Busca \"Container Instances\" y haz clic en \"Crear\".\n",
    "\n",
    "Rellena los detalles requeridos.\n",
    "\n",
    "Suscripción: Selecciona tu suscripción.\n",
    "Grupo de recursos: Selecciona tu grupo de recursos.\n",
    "Nombre del contenedor: Proporciona un nombre único.\n",
    "Región: Selecciona la ubicación geográfica.\n",
    "Tipo de imagen: Selecciona \"Pública\" o \"Privada\".\n",
    "Imagen del contenedor: Proporciona la URL de la imagen del contenedor Docker.\n",
    "Configura las opciones adicionales como se requiera, y luego haz clic en \"Revisar + Crear\".\n",
    "\n",
    "Haz clic en \"Crear\" para desplegar el contenedor."
   ]
  },
  {
   "attachments": {},
   "cell_type": "markdown",
   "metadata": {},
   "source": [
    "## 6. Desplegar una Web App FastAPI\n",
    "\n",
    "Azure App Service es un servicio HTTP completamente administrado para alojar aplicaciones web, móviles y RESTful. Puedes usarlo para desplegar una aplicación FastAPI.\n",
    "\n",
    "En el portal de Azure, haz clic en \"Crear un recurso\".\n",
    "\n",
    "Busca \"App Service\" y selecciona \"App Service\" en los resultados de la búsqueda.\n",
    "\n",
    "Haz clic en \"Crear\" para iniciar el proceso de creación.\n",
    "\n",
    "Rellena los detalles requeridos.\n",
    "\n",
    "Suscripción: Selecciona tu suscripción.\n",
    "Grupo de recursos: Selecciona tu grupo de recursos.\n",
    "Nombre de la aplicación: Proporciona un nombre único.\n",
    "Publicar: Elige \"Código\".\n",
    "Pila de ejecución: Selecciona \"Python\".\n",
    "Sistema operativo: Elige \"Linux\".\n",
    "Región: Selecciona la ubicación geográfica.\n",
    "Haz clic en \"Revisar + Crear\" y luego en \"Crear\".\n",
    "\n",
    "Una vez que la App Service esté creada, puedes desplegar tu aplicación FastAPI utilizando Git, FTP, o GitHub Actions."
   ]
  }
 ],
 "metadata": {
  "language_info": {
   "name": "python"
  },
  "orig_nbformat": 4
 },
 "nbformat": 4,
 "nbformat_minor": 2
}

{
 "cells": [
  {
   "attachments": {},
   "cell_type": "markdown",
   "metadata": {},
   "source": [
    "![](https://nodejsera.com/library/assets/img/ga.png)"
   ]
  },
  {
   "attachments": {},
   "cell_type": "markdown",
   "metadata": {},
   "source": [
    "GitHub Actions es una característica de GitHub que permite la automatización de los flujos de trabajo.\n",
    "\n",
    "En otras palabras, puede automatizar todo su proceso de desarrollo de software directamente dentro de su repositorio de GitHub. Esta funcionalidad le permite realizar tareas como pruebas de código, creación de informes, implementaciones, entre otras."
   ]
  },
  {
   "attachments": {},
   "cell_type": "markdown",
   "metadata": {},
   "source": [
    "El flujo de trabajo en GitHub Actions es un proceso automatizado que puedes configurar en tu repositorio de GitHub para construir, testear, empaquetar, lanzar o desplegar cualquier proyecto. Los flujos de trabajo pueden ser disparados por diferentes tipos de eventos de GitHub. Por ejemplo, cada vez que alguien hace un 'push' a un repositorio, abre una 'pull request', o incluso a una hora programada."
   ]
  },
  {
   "attachments": {},
   "cell_type": "markdown",
   "metadata": {},
   "source": [
    "Un flujo de trabajo se define a través de archivos YAML dentro del directorio .github/workflows en la raíz de tu repositorio. Cada archivo YAML es un flujo de trabajo separado y puede contener uno o más trabajos."
   ]
  },
  {
   "attachments": {},
   "cell_type": "markdown",
   "metadata": {},
   "source": [
    "## Conceptos básicos"
   ]
  },
  {
   "attachments": {},
   "cell_type": "markdown",
   "metadata": {},
   "source": [
    "### Workflows: \n",
    "Son procedimientos automatizados que puedes configurar en tu repositorio para construir, probar, empaquetar, publicar o implementar cualquier proyecto de código en GitHub.\n",
    "\n",
    "### Eventos: \n",
    "Un evento es cualquier actividad que desencadena un workflow. Por ejemplo, el evento push de GitHub se activa cada vez que alguien realiza un push a un repositorio.\n",
    "\n",
    "### Pasos: \n",
    "Son las tareas individuales que componen un trabajo. Un paso puede ser cualquier cosa que se pueda hacer en una línea de comandos.\n",
    "\n",
    "### Acciones: \n",
    "Son piezas independientes de código que pueden combinarse para crear un trabajo."
   ]
  },
  {
   "attachments": {},
   "cell_type": "markdown",
   "metadata": {},
   "source": [
    "## Creación de un workflow simple"
   ]
  },
  {
   "attachments": {},
   "cell_type": "markdown",
   "metadata": {},
   "source": [
    "Un archivo de workflow es un archivo YAML que especifica tu flujo de trabajo. Los archivos de workflow viven en el directorio .github/workflows de tu repositorio."
   ]
  },
  {
   "cell_type": "raw",
   "metadata": {},
   "source": [
    "name: Mi primer flujo de trabajo\n",
    "on: [push]\n",
    "\n",
    "jobs:\n",
    "  build:\n",
    "    runs-on: ubuntu-latest\n",
    "\n",
    "    steps:\n",
    "    - uses: actions/checkout@v2\n",
    "\n",
    "    - name: Corre un comando de una sola línea\n",
    "      run: echo Hola, mundo!\n",
    "\n",
    "    - name: Corre múltiples comandos\n",
    "      run: |\n",
    "        echo Añade otro comando\n",
    "        echo Y aún otro"
   ]
  },
  {
   "attachments": {},
   "cell_type": "markdown",
   "metadata": {},
   "source": [
    "##  Usando Acciones"
   ]
  },
  {
   "attachments": {},
   "cell_type": "markdown",
   "metadata": {},
   "source": [
    "Las acciones son piezas de código reutilizables que pueden ser incorporadas en tus workflows. Por ejemplo, la acción actions/checkout@v2 es una acción común que se usa para comprobar tu repositorio."
   ]
  },
  {
   "cell_type": "raw",
   "metadata": {},
   "source": [
    "steps:\n",
    "- uses: actions/checkout@v2\n",
    "- uses: actions/setup-node@v1\n",
    "  with:\n",
    "    node-version: '14'\n",
    "- run: npm install\n",
    "- run: npm test"
   ]
  },
  {
   "attachments": {},
   "cell_type": "markdown",
   "metadata": {},
   "source": [
    "## Creando tu propia Acción"
   ]
  },
  {
   "attachments": {},
   "cell_type": "markdown",
   "metadata": {},
   "source": [
    "Además de usar acciones ya existentes, también puedes crear y compartir tus propias acciones. Un ejemplo simple de una acción sería:"
   ]
  },
  {
   "attachments": {},
   "cell_type": "markdown",
   "metadata": {},
   "source": [
    "Dockerfile"
   ]
  },
  {
   "cell_type": "raw",
   "metadata": {},
   "source": [
    "FROM debian:9.5-slim\n",
    "\n",
    "ADD entrypoint.sh /entrypoint.sh\n",
    "RUN chmod +x /entrypoint.sh\n",
    "ENTRYPOINT [\"/entrypoint.sh\"]"
   ]
  },
  {
   "attachments": {},
   "cell_type": "markdown",
   "metadata": {},
   "source": [
    "## Matriz de compilación"
   ]
  },
  {
   "attachments": {},
   "cell_type": "markdown",
   "metadata": {},
   "source": [
    "Las matrices de compilación te permiten probar tu código en múltiples versiones de un lenguaje, sistema operativo, o cualquier otra combinación de parámetros."
   ]
  },
  {
   "cell_type": "raw",
   "metadata": {},
   "source": [
    "jobs:\n",
    "  build:\n",
    "    runs-on: ubuntu-latest\n",
    "\n",
    "    strategy:\n",
    "      matrix:\n",
    "        node: [ '12', '14', '16' ]\n",
    "\n",
    "    steps:\n",
    "    - uses: actions/checkout@v2\n",
    "    - uses: actions/setup-node@v1\n",
    "      with:\n",
    "        node-version: ${{ matrix.node }}\n",
    "    - run: npm install\n",
    "    - run: npm test"
   ]
  }
 ],
 "metadata": {
  "language_info": {
   "name": "python"
  },
  "orig_nbformat": 4
 },
 "nbformat": 4,
 "nbformat_minor": 2
}

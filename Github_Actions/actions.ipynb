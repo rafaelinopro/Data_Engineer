{
 "cells": [
  {
   "attachments": {},
   "cell_type": "markdown",
   "metadata": {},
   "source": [
    "![](https://nodejsera.com/library/assets/img/ga.png)"
   ]
  },
  {
   "attachments": {},
   "cell_type": "markdown",
   "metadata": {},
   "source": [
    "GitHub Actions es una característica de GitHub que permite la automatización de los flujos de trabajo.\n",
    "\n",
    "En otras palabras, puede automatizar todo su proceso de desarrollo de software directamente dentro de su repositorio de GitHub. Esta funcionalidad le permite realizar tareas como pruebas de código, creación de informes, implementaciones, entre otras."
   ]
  },
  {
   "attachments": {},
   "cell_type": "markdown",
   "metadata": {},
   "source": [
    "El flujo de trabajo en GitHub Actions es un proceso automatizado que puedes configurar en tu repositorio de GitHub para construir, testear, empaquetar, lanzar o desplegar cualquier proyecto. Los flujos de trabajo pueden ser disparados por diferentes tipos de eventos de GitHub. Por ejemplo, cada vez que alguien hace un 'push' a un repositorio, abre una 'pull request', o incluso a una hora programada."
   ]
  },
  {
   "attachments": {},
   "cell_type": "markdown",
   "metadata": {},
   "source": [
    "Un flujo de trabajo se define a través de archivos YAML dentro del directorio .github/workflows en la raíz de tu repositorio. Cada archivo YAML es un flujo de trabajo separado y puede contener uno o más trabajos."
   ]
  },
  {
   "attachments": {},
   "cell_type": "markdown",
   "metadata": {},
   "source": [
    "## Conceptos básicos"
   ]
  },
  {
   "attachments": {},
   "cell_type": "markdown",
   "metadata": {},
   "source": [
    "### Workflows: \n",
    "Son procedimientos automatizados que puedes configurar en tu repositorio para construir, probar, empaquetar, publicar o implementar cualquier proyecto de código en GitHub.\n",
    "\n",
    "### Eventos: \n",
    "Un evento es cualquier actividad que desencadena un workflow. Por ejemplo, el evento push de GitHub se activa cada vez que alguien realiza un push a un repositorio.\n",
    "\n",
    "### Pasos: \n",
    "Son las tareas individuales que componen un trabajo. Un paso puede ser cualquier cosa que se pueda hacer en una línea de comandos.\n",
    "\n",
    "### Acciones: \n",
    "Son piezas independientes de código que pueden combinarse para crear un trabajo."
   ]
  },
  {
   "attachments": {},
   "cell_type": "markdown",
   "metadata": {},
   "source": [
    "## Tutorial de GitHub Actions con Python para realizar un ETL con PokeAPI\n",
    "\n",
    "GitHub Actions permite automatizar, personalizar y ejecutar flujos de trabajo de software directamente en tu repositorio de GitHub. Vamos a crear un flujo de trabajo básico de ETL (Extracción, Transformación y Carga) utilizando Python para extraer datos de la PokeAPI, transformarlos y luego cargarlos en una base de datos."
   ]
  },
  {
   "attachments": {},
   "cell_type": "markdown",
   "metadata": {},
   "source": [
    "### Paso 1: Creación del repositorio y archivo Python para ETL\n",
    "\n",
    "Crea un nuevo repositorio en GitHub y clónalo en tu máquina local.\n",
    "\n",
    "Dentro del repositorio, crea un nuevo archivo Python llamado etl.py.\n",
    "\n",
    "En este archivo, vamos a escribir un script de Python simple que extraiga datos de la PokeAPI, los transforme y luego los cargue en una base de datos. Aquí hay un ejemplo básico utilizando SQLite:"
   ]
  },
  {
   "cell_type": "code",
   "execution_count": null,
   "metadata": {},
   "outputs": [],
   "source": [
    "import requests\n",
    "import sqlite3\n",
    "\n",
    "# Extracción de datos\n",
    "response = requests.get('https://pokeapi.co/api/v2/pokemon/ditto')\n",
    "data = response.json()\n",
    "\n",
    "# Transformación de datos\n",
    "transformed_data = {\n",
    "    'id': data['id'],\n",
    "    'name': data['name'],\n",
    "    'height': data['height'],\n",
    "    'weight': data['weight']\n",
    "}\n",
    "\n",
    "# Carga de datos\n",
    "conn = sqlite3.connect('pokemon.db')\n",
    "c = conn.cursor()\n",
    "\n",
    "c.execute('''\n",
    "    CREATE TABLE IF NOT EXISTS Pokemon (\n",
    "        id INTEGER,\n",
    "        name TEXT,\n",
    "        height INTEGER,\n",
    "        weight INTEGER\n",
    "    )\n",
    "''')\n",
    "\n",
    "c.execute('''\n",
    "    INSERT INTO Pokemon (id, name, height, weight)\n",
    "    VALUES (:id, :name, :height, :weight)\n",
    "''', transformed_data)\n",
    "\n",
    "conn.commit()\n",
    "conn.close()\n"
   ]
  },
  {
   "attachments": {},
   "cell_type": "markdown",
   "metadata": {},
   "source": [
    "Este script Python realiza un ETL simple: extrae datos de la API de Pokémon (Extracción), selecciona algunos campos (Transformación), y luego los almacena en una base de datos SQLite (Carga)."
   ]
  },
  {
   "attachments": {},
   "cell_type": "markdown",
   "metadata": {},
   "source": [
    "### Paso 2: Configuración de GitHub Actions\n",
    "\n",
    "En tu repositorio de GitHub, crea una nueva carpeta llamada .github y dentro de ella, otra llamada workflows.\n",
    "\n",
    "Dentro de la carpeta workflows, crea un nuevo archivo YAML llamado etl_workflow.yml. Este será nuestro flujo de trabajo de GitHub Actions.\n",
    "\n",
    "En este archivo YAML, vamos a configurar GitHub Actions para ejecutar nuestro script Python cada vez que se realice un push al repositorio. Aquí hay un ejemplo básico de cómo hacerlo:"
   ]
  },
  {
   "cell_type": "code",
   "execution_count": null,
   "metadata": {},
   "outputs": [],
   "source": [
    "name: ETL Workflow\n",
    "\n",
    "on: [push]\n",
    "\n",
    "jobs:\n",
    "  etl_job:\n",
    "    runs-on: ubuntu-latest\n",
    "    steps:\n",
    "    - uses: actions/checkout@v2\n",
    "    - name: Set up Python\n",
    "      uses: actions/setup-python@v2\n",
    "      with:\n",
    "        python-version: '3.8'\n",
    "    - name: Install dependencies\n",
    "      run: |\n",
    "        python -m pip install --upgrade pip\n",
    "        pip install requests\n",
    "    - name: Run ETL script\n",
    "      run: python etl.py\n"
   ]
  },
  {
   "attachments": {},
   "cell_type": "markdown",
   "metadata": {},
   "source": [
    "Este flujo de trabajo se activa cada vez que se hace un push al repositorio (on: [push]). Configura el entorno para ejecutarse en la última versión de Ubuntu (runs-on: ubuntu-latest), y luego realiza varios pasos: verifica la última versión del repositorio (actions/checkout@v2), configura Python (actions/setup-python@v2), instala las dependencias necesarias (pip install requests) y finalmente ejecuta nuestro script de ETL (python etl.py)."
   ]
  },
  {
   "attachments": {},
   "cell_type": "markdown",
   "metadata": {},
   "source": [
    "### Paso 3: Ejecución del flujo de trabajo\n",
    "Ahora, cada vez que hagas un push a tu repositorio, GitHub Actions ejecutará automáticamente tu flujo de trabajo de ETL. Puedes ver el resultado de la ejecución de tus flujos de trabajo en la pestaña \"Actions\" de tu repositorio en GitHub.\n",
    "\n",
    "Este es un ejemplo simple de cómo puedes utilizar GitHub Actions para automatizar un proceso de ETL con Python y la PokeAPI"
   ]
  }
 ],
 "metadata": {
  "language_info": {
   "name": "python"
  },
  "orig_nbformat": 4
 },
 "nbformat": 4,
 "nbformat_minor": 2
}
